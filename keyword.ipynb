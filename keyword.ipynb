{
 "cells": [
  {
   "cell_type": "code",
   "execution_count": 26,
   "id": "6f83e1c3",
   "metadata": {},
   "outputs": [],
   "source": [
    "import pandas as pd\n",
    "import numpy as np"
   ]
  },
  {
   "cell_type": "code",
   "execution_count": 27,
   "id": "e272d192",
   "metadata": {},
   "outputs": [],
   "source": [
    "df=pd.read_csv(\"C:/Users/JUPALLY MEGHANA/Downloads/archive/European Restaurant Reviews.csv\")"
   ]
  },
  {
   "cell_type": "code",
   "execution_count": 28,
   "id": "312eff3d",
   "metadata": {},
   "outputs": [
    {
     "data": {
      "text/plain": [
       "(1502, 6)"
      ]
     },
     "execution_count": 28,
     "metadata": {},
     "output_type": "execute_result"
    }
   ],
   "source": [
    "df.shape"
   ]
  },
  {
   "cell_type": "code",
   "execution_count": 29,
   "id": "4f6eae5a",
   "metadata": {},
   "outputs": [
    {
     "data": {
      "text/html": [
       "<div>\n",
       "<style scoped>\n",
       "    .dataframe tbody tr th:only-of-type {\n",
       "        vertical-align: middle;\n",
       "    }\n",
       "\n",
       "    .dataframe tbody tr th {\n",
       "        vertical-align: top;\n",
       "    }\n",
       "\n",
       "    .dataframe thead th {\n",
       "        text-align: right;\n",
       "    }\n",
       "</style>\n",
       "<table border=\"1\" class=\"dataframe\">\n",
       "  <thead>\n",
       "    <tr style=\"text-align: right;\">\n",
       "      <th></th>\n",
       "      <th>Country</th>\n",
       "      <th>Restaurant Name</th>\n",
       "      <th>Sentiment</th>\n",
       "      <th>Review Title</th>\n",
       "      <th>Review Date</th>\n",
       "      <th>Review</th>\n",
       "    </tr>\n",
       "  </thead>\n",
       "  <tbody>\n",
       "    <tr>\n",
       "      <th>0</th>\n",
       "      <td>France</td>\n",
       "      <td>The Frog at Bercy Village</td>\n",
       "      <td>Negative</td>\n",
       "      <td>Rude manager</td>\n",
       "      <td>May 2024 •</td>\n",
       "      <td>The manager became agressive when I said the c...</td>\n",
       "    </tr>\n",
       "    <tr>\n",
       "      <th>1</th>\n",
       "      <td>France</td>\n",
       "      <td>The Frog at Bercy Village</td>\n",
       "      <td>Negative</td>\n",
       "      <td>A big disappointment</td>\n",
       "      <td>Feb 2024 •</td>\n",
       "      <td>I ordered a beef fillet ask to be done medium,...</td>\n",
       "    </tr>\n",
       "    <tr>\n",
       "      <th>2</th>\n",
       "      <td>France</td>\n",
       "      <td>The Frog at Bercy Village</td>\n",
       "      <td>Negative</td>\n",
       "      <td>Pretty Place with Bland Food</td>\n",
       "      <td>Nov 2023 •</td>\n",
       "      <td>This is an attractive venue with welcoming, al...</td>\n",
       "    </tr>\n",
       "    <tr>\n",
       "      <th>3</th>\n",
       "      <td>France</td>\n",
       "      <td>The Frog at Bercy Village</td>\n",
       "      <td>Negative</td>\n",
       "      <td>Great service and wine but inedible food</td>\n",
       "      <td>Mar 2023 •</td>\n",
       "      <td>Sadly I  used the high TripAdvisor rating too ...</td>\n",
       "    </tr>\n",
       "    <tr>\n",
       "      <th>4</th>\n",
       "      <td>France</td>\n",
       "      <td>The Frog at Bercy Village</td>\n",
       "      <td>Negative</td>\n",
       "      <td>Avoid- Worst meal in Rome - possibly ever</td>\n",
       "      <td>Nov 2022 •</td>\n",
       "      <td>From the start this meal was bad- especially g...</td>\n",
       "    </tr>\n",
       "  </tbody>\n",
       "</table>\n",
       "</div>"
      ],
      "text/plain": [
       "  Country            Restaurant Name Sentiment  \\\n",
       "0  France  The Frog at Bercy Village  Negative   \n",
       "1  France  The Frog at Bercy Village  Negative   \n",
       "2  France  The Frog at Bercy Village  Negative   \n",
       "3  France  The Frog at Bercy Village  Negative   \n",
       "4  France  The Frog at Bercy Village  Negative   \n",
       "\n",
       "                                Review Title Review Date  \\\n",
       "0                               Rude manager  May 2024 •   \n",
       "1                       A big disappointment  Feb 2024 •   \n",
       "2               Pretty Place with Bland Food  Nov 2023 •   \n",
       "3   Great service and wine but inedible food  Mar 2023 •   \n",
       "4  Avoid- Worst meal in Rome - possibly ever  Nov 2022 •   \n",
       "\n",
       "                                              Review  \n",
       "0  The manager became agressive when I said the c...  \n",
       "1  I ordered a beef fillet ask to be done medium,...  \n",
       "2  This is an attractive venue with welcoming, al...  \n",
       "3  Sadly I  used the high TripAdvisor rating too ...  \n",
       "4  From the start this meal was bad- especially g...  "
      ]
     },
     "execution_count": 29,
     "metadata": {},
     "output_type": "execute_result"
    }
   ],
   "source": [
    "df.head()"
   ]
  },
  {
   "cell_type": "code",
   "execution_count": 30,
   "id": "1aad2f5f",
   "metadata": {},
   "outputs": [
    {
     "data": {
      "text/plain": [
       "0       The manager became agressive when I said the c...\n",
       "1       I ordered a beef fillet ask to be done medium,...\n",
       "2       This is an attractive venue with welcoming, al...\n",
       "3       Sadly I  used the high TripAdvisor rating too ...\n",
       "4       From the start this meal was bad- especially g...\n",
       "                              ...                        \n",
       "1497    Despite the other reviews saying that this is ...\n",
       "1498    beer is good.  food is awfull  The only decent...\n",
       "1499    for terrible service of a truly comedic level,...\n",
       "1500    We visited the Havana's Club Museum which is l...\n",
       "1501    Food and service was awful. Very pretty stop. ...\n",
       "Name: Review, Length: 1502, dtype: object"
      ]
     },
     "execution_count": 30,
     "metadata": {},
     "output_type": "execute_result"
    }
   ],
   "source": [
    "df['Review']"
   ]
  },
  {
   "cell_type": "code",
   "execution_count": 31,
   "id": "5e2b591e",
   "metadata": {},
   "outputs": [
    {
     "data": {
      "text/plain": [
       "'The manager became agressive when I said the carbonara was not good. She was rude. It was  a very bad experience. The worst in Rome in many years.'"
      ]
     },
     "execution_count": 31,
     "metadata": {},
     "output_type": "execute_result"
    }
   ],
   "source": [
    "df['Review'][0]"
   ]
  },
  {
   "cell_type": "code",
   "execution_count": 32,
   "id": "aed06781",
   "metadata": {},
   "outputs": [
    {
     "name": "stdout",
     "output_type": "stream",
     "text": [
      "showing info https://raw.githubusercontent.com/nltk/nltk_data/gh-pages/index.xml\n"
     ]
    },
    {
     "data": {
      "text/plain": [
       "True"
      ]
     },
     "execution_count": 32,
     "metadata": {},
     "output_type": "execute_result"
    }
   ],
   "source": [
    "import nltk\n",
    "nltk.download()\n",
    "\n"
   ]
  },
  {
   "cell_type": "code",
   "execution_count": 36,
   "id": "0a38261e",
   "metadata": {},
   "outputs": [],
   "source": [
    "from nltk.book import *"
   ]
  },
  {
   "cell_type": "code",
   "execution_count": 37,
   "id": "307d65e0",
   "metadata": {},
   "outputs": [],
   "source": [
    "import re\n",
    "from nltk.corpus import stopwords"
   ]
  },
  {
   "cell_type": "code",
   "execution_count": 38,
   "id": "8b82cc89",
   "metadata": {},
   "outputs": [],
   "source": [
    "from nltk.stem.porter import PorterStemmer"
   ]
  },
  {
   "cell_type": "code",
   "execution_count": 39,
   "id": "eebbf404",
   "metadata": {},
   "outputs": [],
   "source": [
    "stop_words=set(stopwords.words('english'))"
   ]
  },
  {
   "cell_type": "code",
   "execution_count": 42,
   "id": "cdff30c4",
   "metadata": {},
   "outputs": [],
   "source": [
    "import re\n",
    "import nltk\n",
    "from nltk.corpus import stopwords\n",
    "from nltk.stem.wordnet import WordNetLemmatizer\n",
    "\n",
    "def preprocessing_text(txt):\n",
    "    # Lower case\n",
    "    txt = txt.lower()\n",
    "    # Remove HTML tags\n",
    "    txt = re.sub(r\"<.*?>\", \" \", txt)\n",
    "    # Remove special characters and digits\n",
    "    txt = re.sub(r\"[^a-zA-Z]\", \" \", txt)\n",
    "    # tokenization\n",
    "    txt = nltk.word_tokenize(txt)\n",
    "    # Remove stopwords\n",
    "    txt = [word for word in txt if word not in stop_words]\n",
    "    # Remove words less than three letters\n",
    "    txt = [word for word in txt if len(word) >= 3]\n",
    "    # Lemmatize\n",
    "    stemming = PorterStemmer()\n",
    "    txt = [stemming.stem(word) for word in txt]\n",
    "\n",
    "    return \" \".join(txt)"
   ]
  },
  {
   "cell_type": "code",
   "execution_count": 44,
   "id": "f0fe162a",
   "metadata": {},
   "outputs": [],
   "source": [
    "docs=df['Review'].apply(lambda x:preprocessing_text(x))"
   ]
  },
  {
   "cell_type": "code",
   "execution_count": 45,
   "id": "9b00b6e9",
   "metadata": {},
   "outputs": [
    {
     "data": {
      "text/plain": [
       "0       manag becam agress said carbonara good rude ba...\n",
       "1       order beef fillet ask done medium got well don...\n",
       "2       attract venu welcom albeit somewhat slow servi...\n",
       "3       sadli use high tripadvisor rate liter fortun e...\n",
       "4       start meal bad especi given price visit husban...\n",
       "                              ...                        \n",
       "1497    despit review say love place hang especi beer ...\n",
       "1498    beer good food awful decent thing shish kabob ...\n",
       "1499    terribl servic truli comed level full pint bee...\n",
       "1500    visit havana club museum locat old havana area...\n",
       "1501       food servic aw pretti stop good photo bad food\n",
       "Name: Review, Length: 1502, dtype: object"
      ]
     },
     "execution_count": 45,
     "metadata": {},
     "output_type": "execute_result"
    }
   ],
   "source": [
    "docs"
   ]
  },
  {
   "cell_type": "code",
   "execution_count": 46,
   "id": "b0d93d8d",
   "metadata": {},
   "outputs": [],
   "source": [
    "from sklearn.feature_extraction.text import CountVectorizer\n",
    "\n",
    "# Reduce max_features and adjust n-gram range\n",
    "cv = CountVectorizer(max_features=6000, ngram_range=(1, 2))\n",
    "\n",
    "# Create a vocabulary and word count vectors\n",
    "word_count_vectors = cv.fit_transform(docs)"
   ]
  },
  {
   "cell_type": "code",
   "execution_count": 47,
   "id": "cdecf2b8",
   "metadata": {},
   "outputs": [
    {
     "data": {
      "text/plain": [
       "CountVectorizer(max_features=6000, ngram_range=(1, 2))"
      ]
     },
     "execution_count": 47,
     "metadata": {},
     "output_type": "execute_result"
    }
   ],
   "source": [
    "cv"
   ]
  },
  {
   "cell_type": "code",
   "execution_count": 48,
   "id": "1efab5cf",
   "metadata": {},
   "outputs": [
    {
     "data": {
      "text/plain": [
       "TfidfTransformer()"
      ]
     },
     "execution_count": 48,
     "metadata": {},
     "output_type": "execute_result"
    }
   ],
   "source": [
    "from sklearn.feature_extraction.text import TfidfTransformer\n",
    "tfidf_transformer=TfidfTransformer(smooth_idf=True,use_idf=True)\n",
    "tfidf_transformer.fit(word_count_vectors)"
   ]
  },
  {
   "cell_type": "code",
   "execution_count": 56,
   "id": "17eff77a",
   "metadata": {},
   "outputs": [
    {
     "name": "stdout",
     "output_type": "stream",
     "text": [
      "\n",
      "=====Sentiment=====\n",
      "Positive\n",
      "\n",
      "=====Review Title=====\n",
      "Music, music, outdoor cafes, balconies.....and history\n",
      "\n",
      "=====Review=====\n",
      "Loved this plaza...they had just fixed the fountain, and, of course, the famous gal on a rooster statue is here.  Latin music in all corners, some dancing, sometimes a stage with entertainment, always lively and SAFE at night.  Loved it!\n",
      "\n",
      "===Keywords===\n",
      "stage: 0.299\n",
      "night love: 0.299\n",
      "famou: 0.287\n",
      "entertain: 0.287\n",
      "statu: 0.271\n",
      "danc: 0.271\n",
      "fix: 0.264\n",
      "safe: 0.259\n",
      "sometim: 0.242\n",
      "fountain: 0.242\n"
     ]
    }
   ],
   "source": [
    "def sort_coo(coo_matrix):\n",
    "    tuples = zip(coo_matrix.col, coo_matrix.data)\n",
    "    return sorted(tuples, key=lambda x: (x[1], x[0]), reverse=True)\n",
    "\n",
    "def extract_topn_from_vector(feature_names, sorted_items, topn=10):\n",
    "    # taking top items from vector\n",
    "    sorted_items = sorted_items[:topn]\n",
    "    \n",
    "    score_vals = []\n",
    "    feature_vals = []\n",
    "    for idx, score in sorted_items:\n",
    "        fname = feature_names[idx]\n",
    "        score_vals.append(round(score, 3))\n",
    "        feature_vals.append(fname)\n",
    "    \n",
    "    # create a tuple of feature, score\n",
    "    results = {}\n",
    "    for idx in range(len(feature_vals)):\n",
    "        results[feature_vals[idx]] = score_vals[idx]\n",
    "    \n",
    "    return results\n",
    "\n",
    "# get feature names\n",
    "feature_names = cv.get_feature_names_out()\n",
    "\n",
    "def get_keywords(idx, docs):\n",
    "    # generate tf-idf for the given document\n",
    "    tf_idf_vector = tfidf_transformer.transform(cv.transform([docs[idx]]))\n",
    "\n",
    "    # sort the tf-idf vectors by descending order of scores\n",
    "    sorted_items = sort_coo(tf_idf_vector.tocoo())\n",
    "\n",
    "    # extract only the top n; n here is 10\n",
    "    keywords = extract_topn_from_vector(feature_names, sorted_items, 10)\n",
    "    \n",
    "    return keywords\n",
    "\n",
    "def print_results(idx, keywords, df):\n",
    "    # now print the results\n",
    "    print(\"\\n=====Sentiment=====\")\n",
    "    print(df['Sentiment'][idx])\n",
    "    print(\"\\n=====Review Title=====\")\n",
    "    print(df['Review Title'][idx])\n",
    "    print(\"\\n=====Review=====\")\n",
    "    print(df['Review'][idx])\n",
    "    print(\"\\n===Keywords===\")\n",
    "    for keyword, score in keywords.items():\n",
    "        print(f\"{keyword}: {score}\")\n",
    "\n",
    "# Example usage\n",
    "idx = 1414\n",
    "keywords = get_keywords(idx, docs)\n",
    "print_results(idx, keywords, df)\n",
    "\n"
   ]
  },
  {
   "cell_type": "code",
   "execution_count": 57,
   "id": "fb7e1196",
   "metadata": {},
   "outputs": [],
   "source": [
    "import pickle\n",
    "pickle.dump(tfidf_transformer,open('tfidf_transformer.pkl','wb'))\n",
    "pickle.dump(cv,open('count_vectorizer.pkl','wb'))\n",
    "pickle.dump(feature_names,open('feature_names.pkl','wb'))"
   ]
  },
  {
   "cell_type": "code",
   "execution_count": null,
   "id": "b9968b8b",
   "metadata": {},
   "outputs": [],
   "source": []
  }
 ],
 "metadata": {
  "kernelspec": {
   "display_name": "Python 3 (ipykernel)",
   "language": "python",
   "name": "python3"
  },
  "language_info": {
   "codemirror_mode": {
    "name": "ipython",
    "version": 3
   },
   "file_extension": ".py",
   "mimetype": "text/x-python",
   "name": "python",
   "nbconvert_exporter": "python",
   "pygments_lexer": "ipython3",
   "version": "3.9.13"
  }
 },
 "nbformat": 4,
 "nbformat_minor": 5
}
